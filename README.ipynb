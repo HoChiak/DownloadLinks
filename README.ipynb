# Donwload Links
Little python tool to download links of a given 'filetype' (e.g. 'pdf' or 'txt') automatically from a homepage. Just enter the "web link" and the "local path" to save the files and the tool will download all available Links having the given filetype on the homepage.
